{
 "cells": [
  {
   "cell_type": "code",
   "execution_count": 1,
   "metadata": {},
   "outputs": [],
   "source": [
    "# 载入数据\n",
    "\n",
    "import pandas as pd\n",
    "import copy\n",
    "\n",
    "from utils.consts import *\n",
    "\n",
    "train_data = pd.read_csv(TRAIN_DATA_PATH).drop(columns=\"tconst\")\n",
    "test_data = pd.read_csv(TEST_DATA_PATH).drop(columns=\"tconst\")\n"
   ]
  },
  {
   "cell_type": "markdown",
   "metadata": {},
   "source": [
    "> 基于相似度的评分模型"
   ]
  },
  {
   "cell_type": "code",
   "execution_count": 2,
   "metadata": {},
   "outputs": [],
   "source": [
    "train_data_simi = copy.deepcopy(train_data)\n",
    "test_data_simi = copy.deepcopy(test_data)\n",
    "\n",
    "# 均值填充缺失值\n",
    "def fillna(df):\n",
    "    for column in list(df.columns[df.isnull().sum() > 0]):\n",
    "        mean_val = df[column].mean()\n",
    "        df[column].fillna(mean_val, inplace=True)\n",
    "\n",
    "fillna(train_data_simi)\n",
    "fillna(test_data_simi)\n",
    "\n",
    "# 剔除训练集中评分人数少于50的电影\n",
    "train_data_simi = train_data_simi.drop(train_data_simi[train_data_simi[\"numVotes\"]<50].index)\n",
    "\n",
    "# 剔除评分列\n",
    "train_data_simi.drop(columns=\"averageRating\")\n",
    "test_data_simi.drop(columns=\"averageRating\")\n",
    "\n",
    "# 归一化\n",
    "train_data_simi = (train_data_simi - train_data_simi.min())/(train_data_simi.max()-train_data_simi.min())\n",
    "test_data_simi = (test_data_simi - test_data_simi.min())/(test_data_simi.max()-test_data_simi.min())"
   ]
  },
  {
   "cell_type": "code",
   "execution_count": 3,
   "metadata": {},
   "outputs": [],
   "source": [
    "# 将数据转换为numpy矩阵\n",
    "import numpy as np\n",
    "\n",
    "train_matrix = np.matrix(train_data_simi)\n",
    "test_matrix = np.matrix(test_data_simi)"
   ]
  },
  {
   "cell_type": "code",
   "execution_count": 9,
   "metadata": {},
   "outputs": [],
   "source": [
    "def simi_predict(vec):\n",
    "    \"\"\"\n",
    "    预测函数,计算给定向量vec和train_matrix之间的欧氏距离,取其中最相似的K个电影的评分均值作为预测评分\n",
    "    \"\"\"\n",
    "    vec = np.array(vec)\n",
    "    vec_2_matrix = np.repeat(vec,len(train_matrix),axis=0)\n",
    "    sub_matrix = vec_2_matrix - train_matrix\n",
    "    dis=[]\n",
    "    for row in sub_matrix:\n",
    "        row = np.array(row)\n",
    "        dis.append(float(np.dot(row,row.T)))\n",
    "    max_num = max(dis)\n",
    "    min_index_arr=[]\n",
    "    for i in range(K):\n",
    "        min_num = min(dis)\n",
    "        min_index = dis.index(min_num)\n",
    "        min_index_arr.append(min_index)\n",
    "        dis[min_index]=max_num\n",
    "    score_sum = 0\n",
    "    for index in min_index_arr:\n",
    "        score_sum += train_data[\"averageRating\"][index]\n",
    "    return score_sum/K"
   ]
  },
  {
   "cell_type": "code",
   "execution_count": 12,
   "metadata": {},
   "outputs": [
    {
     "name": "stderr",
     "output_type": "stream",
     "text": [
      "  0%|          | 34/34130 [00:52<14:36:23,  1.54s/it]\n"
     ]
    },
    {
     "ename": "KeyboardInterrupt",
     "evalue": "",
     "output_type": "error",
     "traceback": [
      "\u001b[0;31m---------------------------------------------------------------------------\u001b[0m",
      "\u001b[0;31mKeyboardInterrupt\u001b[0m                         Traceback (most recent call last)",
      "\u001b[1;32m/home/hxx/WorkSpace/movie_rating_prediction/model.ipynb Cell 6'\u001b[0m in \u001b[0;36m<cell line: 7>\u001b[0;34m()\u001b[0m\n\u001b[1;32m      <a href='vscode-notebook-cell:/home/hxx/WorkSpace/movie_rating_prediction/model.ipynb#ch0000007?line=5'>6</a>\u001b[0m test_scores \u001b[39m=\u001b[39m [\u001b[39m0\u001b[39m]\u001b[39m*\u001b[39m\u001b[39mlen\u001b[39m(test_matrix)\n\u001b[1;32m      <a href='vscode-notebook-cell:/home/hxx/WorkSpace/movie_rating_prediction/model.ipynb#ch0000007?line=6'>7</a>\u001b[0m \u001b[39mfor\u001b[39;00m i \u001b[39min\u001b[39;00m tqdm(\u001b[39mrange\u001b[39m(\u001b[39mlen\u001b[39m(test_matrix))):\n\u001b[0;32m----> <a href='vscode-notebook-cell:/home/hxx/WorkSpace/movie_rating_prediction/model.ipynb#ch0000007?line=7'>8</a>\u001b[0m     test_scores[i]\u001b[39m=\u001b[39msimi_predict(test_matrix[i])\n\u001b[1;32m     <a href='vscode-notebook-cell:/home/hxx/WorkSpace/movie_rating_prediction/model.ipynb#ch0000007?line=9'>10</a>\u001b[0m mse_simi \u001b[39m=\u001b[39m mean_squared_error(y_true\u001b[39m=\u001b[39mtest_data[\u001b[39m\"\u001b[39m\u001b[39maverageRating\u001b[39m\u001b[39m\"\u001b[39m],y_pred\u001b[39m=\u001b[39mtest_scores)\n\u001b[1;32m     <a href='vscode-notebook-cell:/home/hxx/WorkSpace/movie_rating_prediction/model.ipynb#ch0000007?line=10'>11</a>\u001b[0m \u001b[39mprint\u001b[39m(\u001b[39mf\u001b[39m\u001b[39m\"\u001b[39m\u001b[39mmse_simi: \u001b[39m\u001b[39m{\u001b[39;00mmse_simi\u001b[39m}\u001b[39;00m\u001b[39m\"\u001b[39m)\n",
      "\u001b[1;32m/home/hxx/WorkSpace/movie_rating_prediction/model.ipynb Cell 5'\u001b[0m in \u001b[0;36msimi_predict\u001b[0;34m(vec)\u001b[0m\n\u001b[1;32m      <a href='vscode-notebook-cell:/home/hxx/WorkSpace/movie_rating_prediction/model.ipynb#ch0000002?line=7'>8</a>\u001b[0m dis\u001b[39m=\u001b[39m[]\n\u001b[1;32m      <a href='vscode-notebook-cell:/home/hxx/WorkSpace/movie_rating_prediction/model.ipynb#ch0000002?line=8'>9</a>\u001b[0m \u001b[39mfor\u001b[39;00m row \u001b[39min\u001b[39;00m sub_matrix:\n\u001b[0;32m---> <a href='vscode-notebook-cell:/home/hxx/WorkSpace/movie_rating_prediction/model.ipynb#ch0000002?line=9'>10</a>\u001b[0m     row \u001b[39m=\u001b[39m np\u001b[39m.\u001b[39;49marray(row)\n\u001b[1;32m     <a href='vscode-notebook-cell:/home/hxx/WorkSpace/movie_rating_prediction/model.ipynb#ch0000002?line=10'>11</a>\u001b[0m     dis\u001b[39m.\u001b[39mappend(\u001b[39mfloat\u001b[39m(np\u001b[39m.\u001b[39mdot(row,row\u001b[39m.\u001b[39mT)))\n\u001b[1;32m     <a href='vscode-notebook-cell:/home/hxx/WorkSpace/movie_rating_prediction/model.ipynb#ch0000002?line=11'>12</a>\u001b[0m max_num \u001b[39m=\u001b[39m \u001b[39mmax\u001b[39m(dis)\n",
      "\u001b[0;31mKeyboardInterrupt\u001b[0m: "
     ]
    }
   ],
   "source": [
    "# 计算MSE\n",
    "\n",
    "from tqdm import tqdm\n",
    "from sklearn.metrics import mean_squared_error\n",
    "\n",
    "test_scores = [0]*len(test_matrix)\n",
    "for i in tqdm(range(len(test_matrix))):\n",
    "    test_scores[i]=simi_predict(test_matrix[i])\n",
    "\n",
    "mse_simi = mean_squared_error(y_true=test_data[\"averageRating\"],y_pred=test_scores)\n",
    "print(f\"mse_simi: {mse_simi}\")"
   ]
  },
  {
   "cell_type": "code",
   "execution_count": null,
   "metadata": {},
   "outputs": [],
   "source": []
  }
 ],
 "metadata": {
  "interpreter": {
   "hash": "1d3086da0d5cf4d4de7801ae5269b129d562a61c984aeb817e47178d887bc749"
  },
  "kernelspec": {
   "display_name": "Python 3.8.13 ('py38')",
   "language": "python",
   "name": "python3"
  },
  "language_info": {
   "codemirror_mode": {
    "name": "ipython",
    "version": 3
   },
   "file_extension": ".py",
   "mimetype": "text/x-python",
   "name": "python",
   "nbconvert_exporter": "python",
   "pygments_lexer": "ipython3",
   "version": "3.8.13"
  },
  "orig_nbformat": 4
 },
 "nbformat": 4,
 "nbformat_minor": 2
}
